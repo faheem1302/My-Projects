{
 "cells": [
  {
   "cell_type": "code",
   "execution_count": 16,
   "metadata": {},
   "outputs": [],
   "source": [
    "#Artificial Neural Networks(ANN)\n",
    "# 1.Data Pre-Processing"
   ]
  },
  {
   "cell_type": "code",
   "execution_count": 1,
   "metadata": {},
   "outputs": [],
   "source": [
    "#Import Models\n",
    "import numpy as np\n",
    "import pandas as pd\n",
    "import matplotlib.pyplot as plt\n",
    "%matplotlib inline"
   ]
  },
  {
   "cell_type": "code",
   "execution_count": 2,
   "metadata": {},
   "outputs": [
    {
     "data": {
      "text/html": [
       "<div>\n",
       "<style scoped>\n",
       "    .dataframe tbody tr th:only-of-type {\n",
       "        vertical-align: middle;\n",
       "    }\n",
       "\n",
       "    .dataframe tbody tr th {\n",
       "        vertical-align: top;\n",
       "    }\n",
       "\n",
       "    .dataframe thead th {\n",
       "        text-align: right;\n",
       "    }\n",
       "</style>\n",
       "<table border=\"1\" class=\"dataframe\">\n",
       "  <thead>\n",
       "    <tr style=\"text-align: right;\">\n",
       "      <th></th>\n",
       "      <th>RowNumber</th>\n",
       "      <th>CustomerId</th>\n",
       "      <th>Surname</th>\n",
       "      <th>CreditScore</th>\n",
       "      <th>Geography</th>\n",
       "      <th>Gender</th>\n",
       "      <th>Age</th>\n",
       "      <th>Tenure</th>\n",
       "      <th>Balance</th>\n",
       "      <th>NumOfProducts</th>\n",
       "      <th>HasCrCard</th>\n",
       "      <th>IsActiveMember</th>\n",
       "      <th>EstimatedSalary</th>\n",
       "      <th>Exited</th>\n",
       "    </tr>\n",
       "  </thead>\n",
       "  <tbody>\n",
       "    <tr>\n",
       "      <th>0</th>\n",
       "      <td>1</td>\n",
       "      <td>15634602</td>\n",
       "      <td>Hargrave</td>\n",
       "      <td>619</td>\n",
       "      <td>France</td>\n",
       "      <td>Female</td>\n",
       "      <td>42</td>\n",
       "      <td>2</td>\n",
       "      <td>0.00</td>\n",
       "      <td>1</td>\n",
       "      <td>1</td>\n",
       "      <td>1</td>\n",
       "      <td>101348.88</td>\n",
       "      <td>1</td>\n",
       "    </tr>\n",
       "    <tr>\n",
       "      <th>1</th>\n",
       "      <td>2</td>\n",
       "      <td>15647311</td>\n",
       "      <td>Hill</td>\n",
       "      <td>608</td>\n",
       "      <td>Spain</td>\n",
       "      <td>Female</td>\n",
       "      <td>41</td>\n",
       "      <td>1</td>\n",
       "      <td>83807.86</td>\n",
       "      <td>1</td>\n",
       "      <td>0</td>\n",
       "      <td>1</td>\n",
       "      <td>112542.58</td>\n",
       "      <td>0</td>\n",
       "    </tr>\n",
       "    <tr>\n",
       "      <th>2</th>\n",
       "      <td>3</td>\n",
       "      <td>15619304</td>\n",
       "      <td>Onio</td>\n",
       "      <td>502</td>\n",
       "      <td>France</td>\n",
       "      <td>Female</td>\n",
       "      <td>42</td>\n",
       "      <td>8</td>\n",
       "      <td>159660.80</td>\n",
       "      <td>3</td>\n",
       "      <td>1</td>\n",
       "      <td>0</td>\n",
       "      <td>113931.57</td>\n",
       "      <td>1</td>\n",
       "    </tr>\n",
       "    <tr>\n",
       "      <th>3</th>\n",
       "      <td>4</td>\n",
       "      <td>15701354</td>\n",
       "      <td>Boni</td>\n",
       "      <td>699</td>\n",
       "      <td>France</td>\n",
       "      <td>Female</td>\n",
       "      <td>39</td>\n",
       "      <td>1</td>\n",
       "      <td>0.00</td>\n",
       "      <td>2</td>\n",
       "      <td>0</td>\n",
       "      <td>0</td>\n",
       "      <td>93826.63</td>\n",
       "      <td>0</td>\n",
       "    </tr>\n",
       "    <tr>\n",
       "      <th>4</th>\n",
       "      <td>5</td>\n",
       "      <td>15737888</td>\n",
       "      <td>Mitchell</td>\n",
       "      <td>850</td>\n",
       "      <td>Spain</td>\n",
       "      <td>Female</td>\n",
       "      <td>43</td>\n",
       "      <td>2</td>\n",
       "      <td>125510.82</td>\n",
       "      <td>1</td>\n",
       "      <td>1</td>\n",
       "      <td>1</td>\n",
       "      <td>79084.10</td>\n",
       "      <td>0</td>\n",
       "    </tr>\n",
       "  </tbody>\n",
       "</table>\n",
       "</div>"
      ],
      "text/plain": [
       "   RowNumber  CustomerId   Surname  CreditScore Geography  Gender  Age  \\\n",
       "0          1    15634602  Hargrave          619    France  Female   42   \n",
       "1          2    15647311      Hill          608     Spain  Female   41   \n",
       "2          3    15619304      Onio          502    France  Female   42   \n",
       "3          4    15701354      Boni          699    France  Female   39   \n",
       "4          5    15737888  Mitchell          850     Spain  Female   43   \n",
       "\n",
       "   Tenure    Balance  NumOfProducts  HasCrCard  IsActiveMember  \\\n",
       "0       2       0.00              1          1               1   \n",
       "1       1   83807.86              1          0               1   \n",
       "2       8  159660.80              3          1               0   \n",
       "3       1       0.00              2          0               0   \n",
       "4       2  125510.82              1          1               1   \n",
       "\n",
       "   EstimatedSalary  Exited  \n",
       "0        101348.88       1  \n",
       "1        112542.58       0  \n",
       "2        113931.57       1  \n",
       "3         93826.63       0  \n",
       "4         79084.10       0  "
      ]
     },
     "execution_count": 2,
     "metadata": {},
     "output_type": "execute_result"
    }
   ],
   "source": [
    "#Importing Datasets\n",
    "dataset = pd.read_csv(\"Churn_Modelling.csv\")\n",
    "dataset.head()"
   ]
  },
  {
   "cell_type": "code",
   "execution_count": 3,
   "metadata": {},
   "outputs": [
    {
     "data": {
      "text/plain": [
       "array([[619, 'France', 'Female', ..., 1, 1, 101348.88],\n",
       "       [608, 'Spain', 'Female', ..., 0, 1, 112542.58],\n",
       "       [502, 'France', 'Female', ..., 1, 0, 113931.57],\n",
       "       ..., \n",
       "       [709, 'France', 'Female', ..., 0, 1, 42085.58],\n",
       "       [772, 'Germany', 'Male', ..., 1, 0, 92888.52],\n",
       "       [792, 'France', 'Female', ..., 1, 0, 38190.78]], dtype=object)"
      ]
     },
     "execution_count": 3,
     "metadata": {},
     "output_type": "execute_result"
    }
   ],
   "source": [
    "X = dataset.iloc[:,3:13].values\n",
    "Y = dataset.iloc[:,13].values\n",
    "X"
   ]
  },
  {
   "cell_type": "code",
   "execution_count": 4,
   "metadata": {},
   "outputs": [],
   "source": [
    "#Encoding categorical data\n",
    "from sklearn.preprocessing import LabelEncoder,OneHotEncoder\n",
    "labelencoder_X_1 = LabelEncoder()\n",
    "X[:, 1] = labelencoder_X_1.fit_transform(X[:, 1])"
   ]
  },
  {
   "cell_type": "code",
   "execution_count": 7,
   "metadata": {},
   "outputs": [
    {
     "data": {
      "text/plain": [
       "array([[619, 0, 'Female', ..., 1, 1, 101348.88],\n",
       "       [608, 2, 'Female', ..., 0, 1, 112542.58],\n",
       "       [502, 0, 'Female', ..., 1, 0, 113931.57],\n",
       "       ..., \n",
       "       [709, 0, 'Female', ..., 0, 1, 42085.58],\n",
       "       [772, 1, 'Male', ..., 1, 0, 92888.52],\n",
       "       [792, 0, 'Female', ..., 1, 0, 38190.78]], dtype=object)"
      ]
     },
     "execution_count": 7,
     "metadata": {},
     "output_type": "execute_result"
    }
   ],
   "source": [
    "X"
   ]
  },
  {
   "cell_type": "code",
   "execution_count": 5,
   "metadata": {},
   "outputs": [],
   "source": [
    "labelencoder_X_2 = LabelEncoder()\n",
    "X[:, 2] = labelencoder_X_2.fit_transform(X[:, 2])"
   ]
  },
  {
   "cell_type": "code",
   "execution_count": 6,
   "metadata": {},
   "outputs": [
    {
     "data": {
      "text/plain": [
       "array([[619, 0, 0, ..., 1, 1, 101348.88],\n",
       "       [608, 2, 0, ..., 0, 1, 112542.58],\n",
       "       [502, 0, 0, ..., 1, 0, 113931.57],\n",
       "       ..., \n",
       "       [709, 0, 0, ..., 0, 1, 42085.58],\n",
       "       [772, 1, 1, ..., 1, 0, 92888.52],\n",
       "       [792, 0, 0, ..., 1, 0, 38190.78]], dtype=object)"
      ]
     },
     "execution_count": 6,
     "metadata": {},
     "output_type": "execute_result"
    }
   ],
   "source": [
    "X"
   ]
  },
  {
   "cell_type": "code",
   "execution_count": 7,
   "metadata": {},
   "outputs": [],
   "source": [
    "onehotencoder = OneHotEncoder(categorical_features = [1])\n",
    "X = onehotencoder.fit_transform(X).toarray()"
   ]
  },
  {
   "cell_type": "code",
   "execution_count": 8,
   "metadata": {},
   "outputs": [],
   "source": [
    "X = X[:, 1:]"
   ]
  },
  {
   "cell_type": "code",
   "execution_count": 12,
   "metadata": {},
   "outputs": [],
   "source": [
    "#Training Sets\n",
    "from sklearn.model_selection import train_test_split\n",
    "X_train, X_test, y_train, y_test = train_test_split(X, Y, test_size = 0.2, random_state = 0)"
   ]
  },
  {
   "cell_type": "code",
   "execution_count": 13,
   "metadata": {},
   "outputs": [
    {
     "data": {
      "text/plain": [
       "array([[  1.00000000e+00,   0.00000000e+00,   5.97000000e+02, ...,\n",
       "          1.00000000e+00,   1.00000000e+00,   1.92852670e+05],\n",
       "       [  0.00000000e+00,   0.00000000e+00,   5.23000000e+02, ...,\n",
       "          1.00000000e+00,   0.00000000e+00,   1.28702100e+05],\n",
       "       [  0.00000000e+00,   1.00000000e+00,   7.06000000e+02, ...,\n",
       "          1.00000000e+00,   1.00000000e+00,   7.57322500e+04],\n",
       "       ..., \n",
       "       [  0.00000000e+00,   1.00000000e+00,   5.78000000e+02, ...,\n",
       "          1.00000000e+00,   0.00000000e+00,   1.41533190e+05],\n",
       "       [  1.00000000e+00,   0.00000000e+00,   6.50000000e+02, ...,\n",
       "          1.00000000e+00,   1.00000000e+00,   1.12764800e+04],\n",
       "       [  1.00000000e+00,   0.00000000e+00,   5.73000000e+02, ...,\n",
       "          1.00000000e+00,   0.00000000e+00,   1.92950600e+05]])"
      ]
     },
     "execution_count": 13,
     "metadata": {},
     "output_type": "execute_result"
    }
   ],
   "source": [
    "X_test"
   ]
  },
  {
   "cell_type": "code",
   "execution_count": 14,
   "metadata": {},
   "outputs": [],
   "source": [
    "#Feature Scaling\n",
    "from sklearn.preprocessing import StandardScaler\n",
    "sc = StandardScaler()\n",
    "X_train = sc.fit_transform(X_train)\n",
    "X_test = sc.transform(X_test)"
   ]
  },
  {
   "cell_type": "code",
   "execution_count": 15,
   "metadata": {},
   "outputs": [
    {
     "data": {
      "text/plain": [
       "array([[ 1.75486502, -0.57369368, -0.55204276, ...,  0.64259497,\n",
       "         0.9687384 ,  1.61085707],\n",
       "       [-0.5698444 , -0.57369368, -1.31490297, ...,  0.64259497,\n",
       "        -1.03227043,  0.49587037],\n",
       "       [-0.5698444 ,  1.74309049,  0.57162971, ...,  0.64259497,\n",
       "         0.9687384 , -0.42478674],\n",
       "       ..., \n",
       "       [-0.5698444 ,  1.74309049, -0.74791227, ...,  0.64259497,\n",
       "        -1.03227043,  0.71888467],\n",
       "       [ 1.75486502, -0.57369368, -0.00566991, ...,  0.64259497,\n",
       "         0.9687384 , -1.54507805],\n",
       "       [ 1.75486502, -0.57369368, -0.79945688, ...,  0.64259497,\n",
       "        -1.03227043,  1.61255917]])"
      ]
     },
     "execution_count": 15,
     "metadata": {},
     "output_type": "execute_result"
    }
   ],
   "source": [
    "X_test"
   ]
  },
  {
   "cell_type": "code",
   "execution_count": 14,
   "metadata": {},
   "outputs": [
    {
     "name": "stderr",
     "output_type": "stream",
     "text": [
      "Using TensorFlow backend.\n"
     ]
    }
   ],
   "source": [
    "#2. Creating ANN\n",
    "#Import Models\n",
    "import keras\n",
    "from keras.models import Sequential\n",
    "from keras.layers import Dense"
   ]
  },
  {
   "cell_type": "code",
   "execution_count": 15,
   "metadata": {},
   "outputs": [],
   "source": [
    "#Initialize Neural Networks"
   ]
  },
  {
   "cell_type": "code",
   "execution_count": 16,
   "metadata": {},
   "outputs": [],
   "source": [
    "classifier = Sequential()"
   ]
  },
  {
   "cell_type": "code",
   "execution_count": 17,
   "metadata": {},
   "outputs": [],
   "source": [
    "# Adding the input layer and the first hidden layer\n",
    "classifier.add(Dense(units = 6, kernel_initializer = 'uniform', activation = 'relu', input_dim = 11))\n",
    "\n",
    "# Adding the second hidden layer\n",
    "classifier.add(Dense(units = 6, kernel_initializer = 'uniform', activation = 'relu'))\n",
    "\n",
    "# Adding the output layer\n",
    "classifier.add(Dense(units = 1, kernel_initializer = 'uniform', activation = 'sigmoid'))\n"
   ]
  },
  {
   "cell_type": "code",
   "execution_count": 19,
   "metadata": {},
   "outputs": [
    {
     "name": "stdout",
     "output_type": "stream",
     "text": [
      "Epoch 1/100\n",
      "8000/8000 [==============================] - 4s 458us/step - loss: 0.4775 - acc: 0.7960\n",
      "Epoch 2/100\n",
      "8000/8000 [==============================] - 3s 373us/step - loss: 0.4262 - acc: 0.7960\n",
      "Epoch 3/100\n",
      "8000/8000 [==============================] - 3s 385us/step - loss: 0.4205 - acc: 0.8069\n",
      "Epoch 4/100\n",
      "8000/8000 [==============================] - 3s 404us/step - loss: 0.4169 - acc: 0.8252\n",
      "Epoch 5/100\n",
      "8000/8000 [==============================] - 4s 502us/step - loss: 0.4152 - acc: 0.8279\n",
      "Epoch 6/100\n",
      "8000/8000 [==============================] - 4s 503us/step - loss: 0.4134 - acc: 0.8310\n",
      "Epoch 7/100\n",
      "8000/8000 [==============================] - 4s 524us/step - loss: 0.4119 - acc: 0.8329\n",
      "Epoch 8/100\n",
      "8000/8000 [==============================] - 4s 515us/step - loss: 0.4109 - acc: 0.8322\n",
      "Epoch 9/100\n",
      "8000/8000 [==============================] - 4s 446us/step - loss: 0.4100 - acc: 0.8325\n",
      "Epoch 10/100\n",
      "8000/8000 [==============================] - 4s 457us/step - loss: 0.4088 - acc: 0.8335\n",
      "Epoch 11/100\n",
      "8000/8000 [==============================] - 4s 468us/step - loss: 0.4080 - acc: 0.8345\n",
      "Epoch 12/100\n",
      "8000/8000 [==============================] - 4s 449us/step - loss: 0.4072 - acc: 0.8351\n",
      "Epoch 13/100\n",
      "8000/8000 [==============================] - 4s 454us/step - loss: 0.4071 - acc: 0.8341\n",
      "Epoch 14/100\n",
      "8000/8000 [==============================] - 3s 427us/step - loss: 0.4064 - acc: 0.8354\n",
      "Epoch 15/100\n",
      "8000/8000 [==============================] - 4s 452us/step - loss: 0.4056 - acc: 0.8351\n",
      "Epoch 16/100\n",
      "8000/8000 [==============================] - 4s 531us/step - loss: 0.4053 - acc: 0.8365\n",
      "Epoch 17/100\n",
      "8000/8000 [==============================] - 5s 588us/step - loss: 0.4047 - acc: 0.8357\n",
      "Epoch 18/100\n",
      "8000/8000 [==============================] - 5s 581us/step - loss: 0.4044 - acc: 0.8350\n",
      "Epoch 19/100\n",
      "8000/8000 [==============================] - 4s 545us/step - loss: 0.4044 - acc: 0.8349\n",
      "Epoch 20/100\n",
      "8000/8000 [==============================] - 5s 593us/step - loss: 0.4037 - acc: 0.8347\n",
      "Epoch 21/100\n",
      "8000/8000 [==============================] - 5s 594us/step - loss: 0.4040 - acc: 0.8352\n",
      "Epoch 22/100\n",
      "8000/8000 [==============================] - 5s 590us/step - loss: 0.4038 - acc: 0.8356\n",
      "Epoch 23/100\n",
      "8000/8000 [==============================] - 5s 584us/step - loss: 0.4033 - acc: 0.8367\n",
      "Epoch 24/100\n",
      "8000/8000 [==============================] - 5s 590us/step - loss: 0.4031 - acc: 0.8356\n",
      "Epoch 25/100\n",
      "8000/8000 [==============================] - 5s 601us/step - loss: 0.4028 - acc: 0.8350\n",
      "Epoch 26/100\n",
      "8000/8000 [==============================] - 5s 617us/step - loss: 0.4025 - acc: 0.8367\n",
      "Epoch 27/100\n",
      "8000/8000 [==============================] - 5s 583us/step - loss: 0.4029 - acc: 0.8344\n",
      "Epoch 28/100\n",
      "8000/8000 [==============================] - 5s 605us/step - loss: 0.4025 - acc: 0.8345\n",
      "Epoch 29/100\n",
      "8000/8000 [==============================] - 5s 602us/step - loss: 0.4023 - acc: 0.8356\n",
      "Epoch 30/100\n",
      "8000/8000 [==============================] - 5s 618us/step - loss: 0.4024 - acc: 0.8352\n",
      "Epoch 31/100\n",
      "8000/8000 [==============================] - 5s 612us/step - loss: 0.4021 - acc: 0.8354\n",
      "Epoch 32/100\n",
      "8000/8000 [==============================] - 5s 612us/step - loss: 0.4020 - acc: 0.8364\n",
      "Epoch 33/100\n",
      "8000/8000 [==============================] - 5s 614us/step - loss: 0.4023 - acc: 0.8352\n",
      "Epoch 34/100\n",
      "8000/8000 [==============================] - 5s 646us/step - loss: 0.4016 - acc: 0.8347\n",
      "Epoch 35/100\n",
      "8000/8000 [==============================] - 4s 522us/step - loss: 0.4018 - acc: 0.8350\n",
      "Epoch 36/100\n",
      "8000/8000 [==============================] - 4s 488us/step - loss: 0.4018 - acc: 0.8345\n",
      "Epoch 37/100\n",
      "8000/8000 [==============================] - 4s 473us/step - loss: 0.4017 - acc: 0.8346\n",
      "Epoch 38/100\n",
      "8000/8000 [==============================] - 4s 488us/step - loss: 0.4013 - acc: 0.8352\n",
      "Epoch 39/100\n",
      "8000/8000 [==============================] - 4s 469us/step - loss: 0.4011 - acc: 0.8347\n",
      "Epoch 40/100\n",
      "8000/8000 [==============================] - 5s 621us/step - loss: 0.4014 - acc: 0.8366\n",
      "Epoch 41/100\n",
      "8000/8000 [==============================] - 5s 609us/step - loss: 0.4014 - acc: 0.8336\n",
      "Epoch 42/100\n",
      "8000/8000 [==============================] - 5s 598us/step - loss: 0.4009 - acc: 0.8350\n",
      "Epoch 43/100\n",
      "8000/8000 [==============================] - 5s 611us/step - loss: 0.4013 - acc: 0.8347\n",
      "Epoch 44/100\n",
      "8000/8000 [==============================] - 5s 614us/step - loss: 0.4013 - acc: 0.8350\n",
      "Epoch 45/100\n",
      "8000/8000 [==============================] - 5s 637us/step - loss: 0.4006 - acc: 0.8361\n",
      "Epoch 46/100\n",
      "8000/8000 [==============================] - 5s 633us/step - loss: 0.4011 - acc: 0.8335\n",
      "Epoch 47/100\n",
      "8000/8000 [==============================] - 5s 633us/step - loss: 0.4004 - acc: 0.8349\n",
      "Epoch 48/100\n",
      "8000/8000 [==============================] - 5s 644us/step - loss: 0.4008 - acc: 0.8337\n",
      "Epoch 49/100\n",
      "8000/8000 [==============================] - 5s 624us/step - loss: 0.4008 - acc: 0.8339\n",
      "Epoch 50/100\n",
      "8000/8000 [==============================] - 5s 612us/step - loss: 0.4006 - acc: 0.8352\n",
      "Epoch 51/100\n",
      "8000/8000 [==============================] - 5s 645us/step - loss: 0.4008 - acc: 0.8347\n",
      "Epoch 52/100\n",
      "8000/8000 [==============================] - 5s 623us/step - loss: 0.4006 - acc: 0.8341\n",
      "Epoch 53/100\n",
      "8000/8000 [==============================] - 5s 619us/step - loss: 0.4006 - acc: 0.8347\n",
      "Epoch 54/100\n",
      "8000/8000 [==============================] - 5s 582us/step - loss: 0.4004 - acc: 0.8356\n",
      "Epoch 55/100\n",
      "8000/8000 [==============================] - 5s 602us/step - loss: 0.4008 - acc: 0.8352\n",
      "Epoch 56/100\n",
      "8000/8000 [==============================] - 5s 606us/step - loss: 0.4011 - acc: 0.8364\n",
      "Epoch 57/100\n",
      "8000/8000 [==============================] - 5s 624us/step - loss: 0.4006 - acc: 0.8346\n",
      "Epoch 58/100\n",
      "8000/8000 [==============================] - 5s 606us/step - loss: 0.4008 - acc: 0.8337\n",
      "Epoch 59/100\n",
      "8000/8000 [==============================] - 5s 608us/step - loss: 0.4003 - acc: 0.8341\n",
      "Epoch 60/100\n",
      "8000/8000 [==============================] - 5s 605us/step - loss: 0.4012 - acc: 0.8345\n",
      "Epoch 61/100\n",
      "8000/8000 [==============================] - 5s 595us/step - loss: 0.4003 - acc: 0.8344\n",
      "Epoch 62/100\n",
      "8000/8000 [==============================] - 5s 621us/step - loss: 0.4006 - acc: 0.8362\n",
      "Epoch 63/100\n",
      "8000/8000 [==============================] - 5s 633us/step - loss: 0.4006 - acc: 0.8355\n",
      "Epoch 64/100\n",
      "8000/8000 [==============================] - 5s 594us/step - loss: 0.4000 - acc: 0.8359\n",
      "Epoch 65/100\n",
      "8000/8000 [==============================] - 5s 600us/step - loss: 0.4002 - acc: 0.8352\n",
      "Epoch 66/100\n",
      "8000/8000 [==============================] - 5s 620us/step - loss: 0.4008 - acc: 0.8337\n",
      "Epoch 67/100\n",
      "8000/8000 [==============================] - 5s 610us/step - loss: 0.4006 - acc: 0.8349\n",
      "Epoch 68/100\n",
      "8000/8000 [==============================] - 5s 616us/step - loss: 0.4005 - acc: 0.8335\n",
      "Epoch 69/100\n",
      "8000/8000 [==============================] - 5s 626us/step - loss: 0.3998 - acc: 0.8330\n",
      "Epoch 70/100\n",
      "8000/8000 [==============================] - 5s 625us/step - loss: 0.4006 - acc: 0.8366\n",
      "Epoch 71/100\n",
      "8000/8000 [==============================] - 5s 605us/step - loss: 0.3999 - acc: 0.8350\n",
      "Epoch 72/100\n",
      "8000/8000 [==============================] - 5s 612us/step - loss: 0.4007 - acc: 0.8359\n",
      "Epoch 73/100\n",
      "8000/8000 [==============================] - 5s 624us/step - loss: 0.4005 - acc: 0.8344\n",
      "Epoch 74/100\n",
      "8000/8000 [==============================] - 5s 605us/step - loss: 0.3999 - acc: 0.8349\n",
      "Epoch 75/100\n",
      "8000/8000 [==============================] - 5s 601us/step - loss: 0.4006 - acc: 0.8344\n",
      "Epoch 76/100\n",
      "8000/8000 [==============================] - 5s 637us/step - loss: 0.4006 - acc: 0.8340\n",
      "Epoch 77/100\n",
      "8000/8000 [==============================] - 6s 717us/step - loss: 0.3999 - acc: 0.8347\n",
      "Epoch 78/100\n",
      "8000/8000 [==============================] - 5s 629us/step - loss: 0.4004 - acc: 0.8352\n",
      "Epoch 79/100\n",
      "8000/8000 [==============================] - 5s 606us/step - loss: 0.4005 - acc: 0.8334\n",
      "Epoch 80/100\n",
      "8000/8000 [==============================] - 5s 620us/step - loss: 0.4002 - acc: 0.8332\n",
      "Epoch 81/100\n",
      "8000/8000 [==============================] - 5s 609us/step - loss: 0.3998 - acc: 0.8354\n",
      "Epoch 82/100\n",
      "8000/8000 [==============================] - 4s 539us/step - loss: 0.4004 - acc: 0.8340\n",
      "Epoch 83/100\n",
      "8000/8000 [==============================] - 4s 529us/step - loss: 0.3996 - acc: 0.8360\n",
      "Epoch 84/100\n",
      "8000/8000 [==============================] - 4s 551us/step - loss: 0.4005 - acc: 0.8345\n",
      "Epoch 85/100\n",
      "8000/8000 [==============================] - 4s 542us/step - loss: 0.4001 - acc: 0.8361\n",
      "Epoch 86/100\n",
      "8000/8000 [==============================] - 5s 576us/step - loss: 0.3999 - acc: 0.8339\n",
      "Epoch 87/100\n",
      "8000/8000 [==============================] - 4s 550us/step - loss: 0.4003 - acc: 0.8360\n",
      "Epoch 88/100\n",
      "8000/8000 [==============================] - 5s 565us/step - loss: 0.3998 - acc: 0.8360\n",
      "Epoch 89/100\n",
      "8000/8000 [==============================] - 5s 563us/step - loss: 0.3998 - acc: 0.8345\n",
      "Epoch 90/100\n",
      "8000/8000 [==============================] - ETA: 0s - loss: 0.3981 - acc: 0.835 - 4s 557us/step - loss: 0.4001 - acc: 0.8345\n",
      "Epoch 91/100\n",
      "8000/8000 [==============================] - 5s 580us/step - loss: 0.4002 - acc: 0.8362\n",
      "Epoch 92/100\n",
      "8000/8000 [==============================] - 5s 577us/step - loss: 0.3994 - acc: 0.8337\n",
      "Epoch 93/100\n",
      "8000/8000 [==============================] - 5s 574us/step - loss: 0.3998 - acc: 0.8344\n",
      "Epoch 94/100\n",
      "8000/8000 [==============================] - 5s 574us/step - loss: 0.3999 - acc: 0.8371\n",
      "Epoch 95/100\n",
      "8000/8000 [==============================] - 4s 562us/step - loss: 0.3998 - acc: 0.8346\n",
      "Epoch 96/100\n",
      "8000/8000 [==============================] - 5s 584us/step - loss: 0.3996 - acc: 0.8370\n",
      "Epoch 97/100\n",
      "8000/8000 [==============================] - 5s 569us/step - loss: 0.3998 - acc: 0.8335\n",
      "Epoch 98/100\n",
      "8000/8000 [==============================] - 4s 550us/step - loss: 0.4000 - acc: 0.8359\n",
      "Epoch 99/100\n",
      "8000/8000 [==============================] - 4s 556us/step - loss: 0.4001 - acc: 0.8347\n",
      "Epoch 100/100\n",
      "8000/8000 [==============================] - 4s 561us/step - loss: 0.4001 - acc: 0.8360\n"
     ]
    },
    {
     "data": {
      "text/plain": [
       "<keras.callbacks.History at 0x7f4594e97050>"
      ]
     },
     "execution_count": 19,
     "metadata": {},
     "output_type": "execute_result"
    }
   ],
   "source": [
    "# Compiling the ANN\n",
    "classifier.compile(optimizer = 'adam', loss = 'binary_crossentropy', metrics = ['accuracy'])\n",
    "\n",
    "# Fitting the ANN to the Training set\n",
    "classifier.fit(X_train, y_train, batch_size = 10, epochs = 100)\n"
   ]
  },
  {
   "cell_type": "code",
   "execution_count": 18,
   "metadata": {},
   "outputs": [],
   "source": [
    "# Predicting the Test set results\n",
    "y_pred = classifier.predict(X_test)\n",
    "y_pred = (y_pred > 0.5)\n",
    "\n",
    "# Making the Confusion Matrix\n",
    "from sklearn.metrics import confusion_matrix\n",
    "cm = confusion_matrix(y_test, y_pred)"
   ]
  },
  {
   "cell_type": "code",
   "execution_count": 19,
   "metadata": {},
   "outputs": [
    {
     "data": {
      "text/plain": [
       "array([[954, 641],\n",
       "       [256, 149]])"
      ]
     },
     "execution_count": 19,
     "metadata": {},
     "output_type": "execute_result"
    }
   ],
   "source": [
    "cm"
   ]
  },
  {
   "cell_type": "code",
   "execution_count": 24,
   "metadata": {},
   "outputs": [
    {
     "data": {
      "text/plain": [
       "0"
      ]
     },
     "execution_count": 24,
     "metadata": {},
     "output_type": "execute_result"
    }
   ],
   "source": [
    "1688/2000"
   ]
  },
  {
   "cell_type": "code",
   "execution_count": 2,
   "metadata": {},
   "outputs": [],
   "source": [
    "#84.25%"
   ]
  },
  {
   "cell_type": "code",
   "execution_count": null,
   "metadata": {},
   "outputs": [],
   "source": []
  }
 ],
 "metadata": {
  "kernelspec": {
   "display_name": "Python 2",
   "language": "python",
   "name": "python2"
  },
  "language_info": {
   "codemirror_mode": {
    "name": "ipython",
    "version": 2
   },
   "file_extension": ".py",
   "mimetype": "text/x-python",
   "name": "python",
   "nbconvert_exporter": "python",
   "pygments_lexer": "ipython2",
   "version": "2.7.14"
  }
 },
 "nbformat": 4,
 "nbformat_minor": 2
}
